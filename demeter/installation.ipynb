{
 "cells": [
  {
   "cell_type": "code",
   "execution_count": null,
   "id": "217e08b5",
   "metadata": {},
   "outputs": [],
   "source": [
    "pip install enum\n"
   ]
  },
  {
   "cell_type": "code",
   "execution_count": 1,
   "id": "b27b0044-1beb-4ffa-b12d-9ac155303bee",
   "metadata": {},
   "outputs": [],
   "source": [
    "from download import ChainType, DataSource, downloader\n",
    "from datetime import datetime\n",
    "import os"
   ]
  },
  {
   "cell_type": "code",
   "execution_count": null,
   "id": "050c7796",
   "metadata": {},
   "outputs": [],
   "source": [
    "abi = [{'inputs': [], 'stateMutability': 'nonpayable', 'type': 'constructor'}, {'anonymous': False, 'inputs': [{'indexed': True, 'internalType': 'uint24', 'name': 'fee', 'type': 'uint24'}, {'indexed': True, 'internalType': 'int24', 'name': 'tickSpacing', 'type': 'int24'}], 'name': 'FeeAmountEnabled', 'type': 'event'}, {'anonymous': False, 'inputs': [{'indexed': True, 'internalType': 'address', 'name': 'oldOwner', 'type': 'address'}, {'indexed': True, 'internalType': 'address', 'name': 'newOwner', 'type': 'address'}], 'name': 'OwnerChanged', 'type': 'event'}, {'anonymous': False, 'inputs': [{'indexed': True, 'internalType': 'address', 'name': 'token0', 'type': 'address'}, {'indexed': True, 'internalType': 'address', 'name': 'token1', 'type': 'address'}, {'indexed': True, 'internalType': 'uint24', 'name': 'fee', 'type': 'uint24'}, {'indexed': False, 'internalType': 'int24', 'name': 'tickSpacing', 'type': 'int24'}, {'indexed': False, 'internalType': 'address', 'name': 'pool', 'type': 'address'}], 'name': 'PoolCreated', 'type': 'event'}, {'inputs': [{'internalType': 'address', 'name': 'tokenA', 'type': 'address'}, {'internalType': 'address', 'name': 'tokenB', 'type': 'address'}, {'internalType': 'uint24', 'name': 'fee', 'type': 'uint24'}], 'name': 'createPool', 'outputs': [{'internalType': 'address', 'name': 'pool', 'type': 'address'}], 'stateMutability': 'nonpayable', 'type': 'function'}, {'inputs': [{'internalType': 'uint24', 'name': 'fee', 'type': 'uint24'}, {'internalType': 'int24', 'name': 'tickSpacing', 'type': 'int24'}], 'name': 'enableFeeAmount', 'outputs': [], 'stateMutability': 'nonpayable', 'type': 'function'}, {'inputs': [{'internalType': 'uint24', 'name': '', 'type': 'uint24'}], 'name': 'feeAmountTickSpacing', 'outputs': [{'internalType': 'int24', 'name': '', 'type': 'int24'}], 'stateMutability': 'view', 'type': 'function'}, {'inputs': [{'internalType': 'address', 'name': '', 'type': 'address'}, {'internalType': 'address', 'name': '', 'type': 'address'}, {'internalType': 'uint24', 'name': '', 'type': 'uint24'}], 'name': 'getPool', 'outputs': [{'internalType': 'address', 'name': '', 'type': 'address'}], 'stateMutability': 'view', 'type': 'function'}, {'inputs': [], 'name': 'owner', 'outputs': [{'internalType': 'address', 'name': '', 'type': 'address'}], 'stateMutability': 'view', 'type': 'function'}, {'inputs': [], 'name': 'parameters', 'outputs': [{'internalType': 'address', 'name': 'factory', 'type': 'address'}, {'internalType': 'address', 'name': 'token0', 'type': 'address'}, {'internalType': 'address', 'name': 'token1', 'type': 'address'}, {'internalType': 'uint24', 'name': 'fee', 'type': 'uint24'}, {'internalType': 'int24', 'name': 'tickSpacing', 'type': 'int24'}], 'stateMutability': 'view', 'type': 'function'}, {'inputs': [{'internalType': 'address', 'name': '_owner', 'type': 'address'}], 'name': 'setOwner', 'outputs': [], 'stateMutability': 'nonpayable', 'type': 'function'}]\n",
    "\n",
    "uni_v3_pool = '0x1F98431c8aD98523631AE4a59f267346ea31F984'\n",
    "\n",
    "Infura_HTTP = 'http://<MY-PROVIDER>'\n",
    "w3 = Web3(Web3.HTTPProvider(Infura_HTTP))\n",
    "\n",
    "univ3 = w3.eth.contract(uni_v3_pool, abi=abi)\n",
    "\n",
    "eth = \"0xC02aaA39b223FE8D0A0e5C4F27eAD9083C756Cc2\"\n",
    "cvx = '0x4e3FBD56CD56c3e72c1403e103b45Db9da5B9D2B'\n",
    "\n",
    "print(univ3.functions.getPool(cvx, eth, 3000).call())"
   ]
  },
  {
   "cell_type": "code",
   "execution_count": 2,
   "id": "c55ab901",
   "metadata": {},
   "outputs": [
    {
     "data": {
      "text/plain": [
       "'/Users/wanjinwoo/Desktop/Antalpha/Github/demeter/fork/demeter'"
      ]
     },
     "execution_count": 2,
     "metadata": {},
     "output_type": "execute_result"
    }
   ],
   "source": [
    "os.getcwd()"
   ]
  },
  {
   "cell_type": "code",
   "execution_count": 3,
   "id": "669c8a76",
   "metadata": {},
   "outputs": [
    {
     "name": "stderr",
     "output_type": "stream",
     "text": [
      "100%|██████████| 30/30 [07:45<00:00, 15.51s/it]\n"
     ]
    }
   ],
   "source": [
    "\n",
    "os.environ['GOOGLE_APPLICATION_CREDENTIALS'] = \"/Users/wanjinwoo/Desktop/Antalpha/demeter/demeter-365908-4265240fd066.json\"\n",
    "\n",
    "\n",
    "start_date = datetime.strptime(\"2022-10-01\", \"%Y-%m-%d\").date()\n",
    "end_date = datetime.strptime( \"2022-10-30\", \"%Y-%m-%d\").date()\n",
    "# ChainType.Ethereum,0x8ad599c3a0ff1de082011efddc58f1908eb6e6d8,2022-01-01,2022-10-16,DataSource.BigQuery,./data\n",
    "downloader.download_by_day(ChainType.Ethereum,\n",
    "                           \"0x88e6a0c2ddd26feeb64f039a2c41296fcb3f5640\",\n",
    "                           start_date,\n",
    "                           end_date,\n",
    "                           DataSource.BigQuery,\n",
    "                           \"./data/eth500\")"
   ]
  },
  {
   "cell_type": "code",
   "execution_count": 4,
   "id": "735885be",
   "metadata": {},
   "outputs": [
    {
     "name": "stderr",
     "output_type": "stream",
     "text": [
      "100%|██████████| 30/30 [04:46<00:00,  9.54s/it]\n"
     ]
    }
   ],
   "source": [
    "# 0.3%\n",
    "downloader.download_by_day(ChainType.Ethereum,\n",
    "                           \"0x8ad599c3a0ff1de082011efddc58f1908eb6e6d8\",\n",
    "                           start_date,\n",
    "                           end_date,\n",
    "                           DataSource.BigQuery,\n",
    "                           \"./data/eth3000\")"
   ]
  },
  {
   "cell_type": "code",
   "execution_count": 5,
   "id": "691ff7a8",
   "metadata": {},
   "outputs": [
    {
     "ename": "NameError",
     "evalue": "name 'TokenInfo' is not defined",
     "output_type": "error",
     "traceback": [
      "\u001b[0;31m---------------------------------------------------------------------------\u001b[0m",
      "\u001b[0;31mNameError\u001b[0m                                 Traceback (most recent call last)",
      "Cell \u001b[0;32mIn [5], line 1\u001b[0m\n\u001b[0;32m----> 1\u001b[0m eth \u001b[39m=\u001b[39m TokenInfo(name\u001b[39m=\u001b[39m\u001b[39m\"\u001b[39m\u001b[39meth\u001b[39m\u001b[39m\"\u001b[39m, decimal\u001b[39m=\u001b[39m\u001b[39m18\u001b[39m) \u001b[39m# 1\u001b[39;00m\n\u001b[1;32m      2\u001b[0m usdc \u001b[39m=\u001b[39m TokenInfo(name\u001b[39m=\u001b[39m\u001b[39m\"\u001b[39m\u001b[39musdc\u001b[39m\u001b[39m\"\u001b[39m, decimal\u001b[39m=\u001b[39m\u001b[39m6\u001b[39m)\n\u001b[1;32m      3\u001b[0m pool \u001b[39m=\u001b[39m PoolBaseInfo(usdc, eth, \u001b[39m0.05\u001b[39m, usdc) \u001b[39m# 2\u001b[39;00m\n",
      "\u001b[0;31mNameError\u001b[0m: name 'TokenInfo' is not defined"
     ]
    }
   ],
   "source": [
    "eth = TokenInfo(name=\"eth\", decimal=18) # 1\n",
    "usdc = TokenInfo(name=\"usdc\", decimal=6)\n",
    "pool = PoolBaseInfo(usdc, eth, 0.05, usdc) # 2\n",
    "runner = Runner(pool) # 3\n",
    "runner.set_assets([Asset(usdc, 1000), Asset(eth, 1)]) #4\n",
    "runner.data_path = \"../data\" # 5\n",
    "runner.load_data(ChainType.Ethereum.name, # 6\n",
    "                 \"0x88e6a0c2ddd26feeb64f039a2c41296fcb3f5640\",\n",
    "                 date(2022, 10, 15),\n",
    "                 date(2022, 10, 20))\n",
    "runner.run() #7\n",
    "runner.output() #8"
   ]
  }
 ],
 "metadata": {
  "kernelspec": {
   "display_name": "Python 3.10.8 64-bit",
   "language": "python",
   "name": "python3"
  },
  "language_info": {
   "codemirror_mode": {
    "name": "ipython",
    "version": 3
   },
   "file_extension": ".py",
   "mimetype": "text/x-python",
   "name": "python",
   "nbconvert_exporter": "python",
   "pygments_lexer": "ipython3",
   "version": "3.10.8"
  },
  "vscode": {
   "interpreter": {
    "hash": "aee8b7b246df8f9039afb4144a1f6fd8d2ca17a180786b69acc140d282b71a49"
   }
  }
 },
 "nbformat": 4,
 "nbformat_minor": 5
}
